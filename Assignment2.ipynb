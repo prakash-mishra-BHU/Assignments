{
 "cells": [
  {
   "cell_type": "code",
   "execution_count": 22,
   "metadata": {
    "tags": []
   },
   "outputs": [
    {
     "output_type": "stream",
     "name": "stdout",
     "text": "\n*\n**\n***\n****\n*****\n****\n***\n**\n*\n"
    }
   ],
   "source": [
    "[print('*'*i) for i in range(5)]\n",
    "for i in range(5,0,-1):\n",
    "    print('*'*i)  "
   ]
  },
  {
   "cell_type": "code",
   "execution_count": 2,
   "metadata": {
    "tags": []
   },
   "outputs": [
    {
     "output_type": "stream",
     "name": "stdout",
     "text": "Enter a word\nReverse of the word : hsakarMP\n"
    }
   ],
   "source": [
    "# problem2\n",
    "print(\"Enter a word\")\n",
    "s = input()\n",
    "print(\"Reverse of the word : {}\".format(s[::-1]) )"
   ]
  }
 ],
 "metadata": {
  "language_info": {
   "codemirror_mode": {
    "name": "ipython",
    "version": 3
   },
   "file_extension": ".py",
   "mimetype": "text/x-python",
   "name": "python",
   "nbconvert_exporter": "python",
   "pygments_lexer": "ipython3",
   "version": "3.7.4-final"
  },
  "orig_nbformat": 2,
  "kernelspec": {
   "name": "python3",
   "display_name": "Python 3"
  }
 },
 "nbformat": 4,
 "nbformat_minor": 2
}