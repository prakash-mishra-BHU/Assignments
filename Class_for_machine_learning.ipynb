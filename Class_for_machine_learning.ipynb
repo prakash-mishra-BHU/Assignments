{
 "cells": [
  {
   "cell_type": "code",
   "execution_count": 1,
   "metadata": {},
   "outputs": [],
   "source": [
    "import numpy as np\n",
    "import pandas as pd\n",
    "from sklearn.linear_model import LinearRegression\n",
    "from sklearn.model_selection import train_test_split"
   ]
  },
  {
   "cell_type": "code",
   "execution_count": 2,
   "metadata": {},
   "outputs": [],
   "source": [
    "class Model:\n",
    "    def __init__(self,datafile=r\"C:\\Users\\LENOVO\\Documents\\Assignments\\weatherHistory.csv\"):\n",
    "        self.df = pd.read_csv(datafile)\n",
    "        self.lr_model = LinearRegression()\n",
    "    def split(self,test_s):\n",
    "        X = np.array(self.df[['Humidity','Pressure (millibars)']])\n",
    "        y = np.array(self.df[['Temperature (C)']])\n",
    "        self.x_train,self.x_test,self.y_train,self.y_test = train_test_split(X,y,test_size= test_s,random_state = 42)\n",
    "\n",
    "    \n",
    "    def fit(self):\n",
    "        self.model = self.lr_model.fit(self.x_train,self.y_train)\n",
    "    \n",
    "    def predict(self):\n",
    "        return self.model.predict(self.x_test)\n",
    "\n",
    "    def acc(self):\n",
    "        return self.model.score(self.x_test,self.y_test)\n",
    "\n"
   ]
  },
  {
   "cell_type": "code",
   "execution_count": 3,
   "metadata": {},
   "outputs": [
    {
     "name": "stdout",
     "output_type": "stream",
     "text": [
      "(19291, 2) (19291, 1)\n",
      "(77162, 2) (77162, 1)\n",
      "0.3957856046568643\n"
     ]
    }
   ],
   "source": [
    "if __name__==\"__main__\":\n",
    "    mode = Model()\n",
    "    mode.split(0.2)\n",
    "    mode.fit()\n",
    "    print(mode.x_test.shape,mode.y_test.shape)\n",
    "    print(mode.x_train.shape,mode.y_train.shape)\n",
    "    print(mode.acc())"
   ]
  },
  {
   "cell_type": "code",
   "execution_count": null,
   "metadata": {},
   "outputs": [],
   "source": []
  }
 ],
 "metadata": {
  "interpreter": {
   "hash": "65d152ab10f3bfba8d21d2be6e42deb70de0e017f3208feebd9438ba25e29544"
  },
  "kernelspec": {
   "display_name": "Python 3.5.6 ('cell_repre')",
   "language": "python",
   "name": "python3"
  },
  "language_info": {
   "codemirror_mode": {
    "name": "ipython",
    "version": 3
   },
   "file_extension": ".py",
   "mimetype": "text/x-python",
   "name": "python",
   "nbconvert_exporter": "python",
   "pygments_lexer": "ipython3",
   "version": "3.8.5"
  },
  "orig_nbformat": 4
 },
 "nbformat": 4,
 "nbformat_minor": 2
}
